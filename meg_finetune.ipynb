{
 "cells": [
  {
   "cell_type": "code",
   "execution_count": 1,
   "metadata": {},
   "outputs": [
    {
     "name": "stderr",
     "output_type": "stream",
     "text": [
      "Traceback (most recent call last):\n",
      "  File \"/mnt/opr/levlevi/contextualized-shot-quality-analysis/TimeSformer/tools/run_net.py\", line 4, in <module>\n",
      "    from timesformer.utils.misc import launch_job\n",
      "ModuleNotFoundError: No module named 'timesformer'\n",
      "Failed to execute the command: Command 'python tools/run_net.py --cfg /mnt/opr/levlevi/contextualized-shot-quality-analysis/data/experiments/__configs__/Result-Hidden/num_frames_ablations_megatron.yaml' returned non-zero exit status 1.\n"
     ]
    }
   ],
   "source": [
    "import os\n",
    "import subprocess\n",
    "import sys\n",
    "\n",
    "TIMESFORMER_DIR = \"/mnt/opr/levlevi/contextualized-shot-quality-analysis/TimeSformer\"\n",
    "!export PYTHONPATH=\"${PYTHONPATH}:/mnt/opr/levlevi/contextualized-shot-quality-analysis/TimeSformer\"\n",
    "\n",
    "def run(config_path=None):\n",
    "    \"\"\"\n",
    "    Changes the working directory and executes a Python script with the specified configuration.\n",
    "    If no configuration is specified, a default config is used.\n",
    "    # \"\"\"\n",
    "\n",
    "    new_directory = TIMESFORMER_DIR\n",
    "    os.chdir(new_directory)\n",
    "\n",
    "    if config_path is None:\n",
    "        config_path = \"configs/Shot-Hidden/shot_hidden.yaml\"\n",
    "\n",
    "    command = f\"python tools/run_net.py --cfg {config_path}\"\n",
    "    try:\n",
    "        subprocess.run(command, check=True, shell=True)\n",
    "    except subprocess.CalledProcessError as e:\n",
    "        print(f\"Failed to execute the command: {e}\", file=sys.stderr)\n",
    "\n",
    "config = \"/mnt/opr/levlevi/contextualized-shot-quality-analysis/data/experiments/__configs__/Result-Hidden/num_frames_ablations_megatron.yaml\"\n",
    "run(config)"
   ]
  },
  {
   "cell_type": "code",
   "execution_count": null,
   "metadata": {},
   "outputs": [],
   "source": []
  }
 ],
 "metadata": {
  "kernelspec": {
   "display_name": "shot-loc-new",
   "language": "python",
   "name": "python3"
  },
  "language_info": {
   "codemirror_mode": {
    "name": "ipython",
    "version": 3
   },
   "file_extension": ".py",
   "mimetype": "text/x-python",
   "name": "python",
   "nbconvert_exporter": "python",
   "pygments_lexer": "ipython3",
   "version": "3.10.14"
  }
 },
 "nbformat": 4,
 "nbformat_minor": 2
}
